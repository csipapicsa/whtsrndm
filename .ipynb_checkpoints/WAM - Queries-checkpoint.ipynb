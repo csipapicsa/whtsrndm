{
 "cells": [
  {
   "cell_type": "code",
   "execution_count": 1,
   "id": "2e3f28a3",
   "metadata": {
    "ExecuteTime": {
     "end_time": "2023-03-01T18:19:32.260438Z",
     "start_time": "2023-03-01T18:19:27.875235Z"
    }
   },
   "outputs": [],
   "source": [
    "import main as m\n",
    "import time\n",
    "import osmnx as ox\n",
    "import importlib as i\n",
    "from shapely import wkt\n",
    "import folium\n",
    "from folium.plugins import MarkerCluster\n",
    "\n",
    "#isnull"
   ]
  },
  {
   "cell_type": "code",
   "execution_count": 13,
   "id": "ed6db466",
   "metadata": {
    "ExecuteTime": {
     "end_time": "2023-02-28T18:03:46.305767Z",
     "start_time": "2023-02-28T18:01:37.849734Z"
    }
   },
   "outputs": [
    {
     "name": "stdout",
     "output_type": "stream",
     "text": [
      "128.44007420539856\n"
     ]
    }
   ],
   "source": [
    "\"\"\"start = time.time()\n",
    "tags = {'tourism': 'viewpoint'}\n",
    "place = \"Hungary\"\n",
    "raw = ox.geometries_from_place(place, tags=tags)\n",
    "end = time.time()\n",
    "print(end - start)\"\"\""
   ]
  },
  {
   "cell_type": "code",
   "execution_count": 2,
   "id": "7508ec37",
   "metadata": {
    "ExecuteTime": {
     "end_time": "2023-03-01T18:19:32.307320Z",
     "start_time": "2023-03-01T18:19:32.287373Z"
    }
   },
   "outputs": [],
   "source": [
    "PATH = {}\n",
    "PATH[\"rawDATA\"] = \"data/unprocessed/\"\n",
    "t = \"tourism\"\n",
    "keys = [\"attraction\", \"artwork\", \"gallery\", \"museum\", \"viewpoint\", \"yes\"]\n",
    "#keys = [\"artwork\", \"gallery\", \"museum\", \"viewpoint\", \"yes\"]"
   ]
  },
  {
   "cell_type": "code",
   "execution_count": null,
   "id": "436b738f",
   "metadata": {
    "ExecuteTime": {
     "end_time": "2023-03-01T09:58:36.189110Z",
     "start_time": "2023-03-01T08:10:08.470593Z"
    },
    "code_folding": []
   },
   "outputs": [],
   "source": [
    "# check\n",
    "place = \"Hungary\"\n",
    "for k in keys:\n",
    "    searchTerm = str(\"'\"+t+\"': '\"+k+\"'\")\n",
    "    print(str(\"'\"+t+\"': '\"+k+\"'\"))\n",
    "    start = time.time()\n",
    "    tags = {searchTerm}\n",
    "    #print({t:k})\n",
    "    raw = ox.geometries_from_place(place, tags={t:k})\n",
    "    display(raw.explore())\n",
    "    try:\n",
    "        raw.to_parquet(PATH[\"rawDATA\"]+place+\"-\"+k+\".parquet\")\n",
    "    except:\n",
    "        raw.to_csv(PATH[\"rawDATA\"]+place+\"-\"+k+\".csv\")  \n",
    "    end = time.time()\n",
    "    print(end - start)"
   ]
  },
  {
   "cell_type": "code",
   "execution_count": 3,
   "id": "656d67e1",
   "metadata": {
    "ExecuteTime": {
     "end_time": "2023-03-01T18:19:33.704983Z",
     "start_time": "2023-03-01T18:19:33.282693Z"
    }
   },
   "outputs": [
    {
     "name": "stdout",
     "output_type": "stream",
     "text": [
      "attraction\n",
      "artwork\n",
      "gallery\n",
      "museum\n",
      "viewpoint\n",
      "yes\n"
     ]
    }
   ],
   "source": [
    "# read in \n",
    "locations = {}\n",
    "place = \"Hungary\"\n",
    "for k in keys:\n",
    "    print(k)\n",
    "    try:\n",
    "        locations[k] = m.gpd.read_parquet(PATH[\"rawDATA\"]+place+\"-\"+k+\".parquet\")\n",
    "    except:\n",
    "        locations[k] = m.pd.read_csv(PATH[\"rawDATA\"]+place+\"-\"+k+\".csv\", low_memory=False)\n",
    "        locations[k][\"geometry\"] = locations[k][\"geometry\"].apply(wkt.loads)\n",
    "        locations[k] = m.gpd.GeoDataFrame(locations[k], geometry = locations[k][\"geometry\"], crs = 'EPSG:4326')\n",
    "        #t = m.gpd.GeoDataFrame(locations[k], geometry = m.gpd.points_from_xy(locations[k]['x'], locations[k]['y']), crs = 'EPSG:4326')\n",
    "        #locations[k].crs = \"epsg:4326\"\n",
    "        #t = m.pd.read_csv(PATH[\"rawDATA\"]+k+\".csv\")\n",
    "        #locations[k] = m.gpd.GeoDataFrame(t, geometry=t.geometry, crs = 'EPSG:4326')"
   ]
  },
  {
   "cell_type": "code",
   "execution_count": 7,
   "id": "f888ae46",
   "metadata": {
    "ExecuteTime": {
     "end_time": "2023-03-01T18:23:15.072901Z",
     "start_time": "2023-03-01T18:22:58.300822Z"
    },
    "code_folding": []
   },
   "outputs": [
    {
     "name": "stderr",
     "output_type": "stream",
     "text": [
      "C:\\Users\\MUSIC\\AppData\\Local\\Temp\\ipykernel_11016\\3285926332.py:32: UserWarning: Geometry is in a geographic CRS. Results from 'centroid' are likely incorrect. Use 'GeoSeries.to_crs()' to re-project geometries to a projected CRS before this operation.\n",
      "\n",
      "  locations[i][\"lat\"] = locations[i].geometry.centroid.y\n",
      "C:\\Users\\MUSIC\\AppData\\Local\\Temp\\ipykernel_11016\\3285926332.py:33: UserWarning: Geometry is in a geographic CRS. Results from 'centroid' are likely incorrect. Use 'GeoSeries.to_crs()' to re-project geometries to a projected CRS before this operation.\n",
      "\n",
      "  locations[i][\"lon\"] = locations[i].geometry.centroid.x\n"
     ]
    },
    {
     "name": "stdout",
     "output_type": "stream",
     "text": [
      "attraction\n"
     ]
    },
    {
     "name": "stderr",
     "output_type": "stream",
     "text": [
      "C:\\Users\\MUSIC\\AppData\\Local\\Temp\\ipykernel_11016\\3285926332.py:32: UserWarning: Geometry is in a geographic CRS. Results from 'centroid' are likely incorrect. Use 'GeoSeries.to_crs()' to re-project geometries to a projected CRS before this operation.\n",
      "\n",
      "  locations[i][\"lat\"] = locations[i].geometry.centroid.y\n",
      "C:\\Users\\MUSIC\\AppData\\Local\\Temp\\ipykernel_11016\\3285926332.py:33: UserWarning: Geometry is in a geographic CRS. Results from 'centroid' are likely incorrect. Use 'GeoSeries.to_crs()' to re-project geometries to a projected CRS before this operation.\n",
      "\n",
      "  locations[i][\"lon\"] = locations[i].geometry.centroid.x\n"
     ]
    },
    {
     "name": "stdout",
     "output_type": "stream",
     "text": [
      "artwork\n"
     ]
    },
    {
     "name": "stderr",
     "output_type": "stream",
     "text": [
      "C:\\Users\\MUSIC\\AppData\\Local\\Temp\\ipykernel_11016\\3285926332.py:32: UserWarning: Geometry is in a geographic CRS. Results from 'centroid' are likely incorrect. Use 'GeoSeries.to_crs()' to re-project geometries to a projected CRS before this operation.\n",
      "\n",
      "  locations[i][\"lat\"] = locations[i].geometry.centroid.y\n",
      "C:\\Users\\MUSIC\\AppData\\Local\\Temp\\ipykernel_11016\\3285926332.py:33: UserWarning: Geometry is in a geographic CRS. Results from 'centroid' are likely incorrect. Use 'GeoSeries.to_crs()' to re-project geometries to a projected CRS before this operation.\n",
      "\n",
      "  locations[i][\"lon\"] = locations[i].geometry.centroid.x\n",
      "C:\\Users\\MUSIC\\AppData\\Local\\Temp\\ipykernel_11016\\3285926332.py:32: UserWarning: Geometry is in a geographic CRS. Results from 'centroid' are likely incorrect. Use 'GeoSeries.to_crs()' to re-project geometries to a projected CRS before this operation.\n",
      "\n",
      "  locations[i][\"lat\"] = locations[i].geometry.centroid.y\n",
      "C:\\Users\\MUSIC\\AppData\\Local\\Temp\\ipykernel_11016\\3285926332.py:33: UserWarning: Geometry is in a geographic CRS. Results from 'centroid' are likely incorrect. Use 'GeoSeries.to_crs()' to re-project geometries to a projected CRS before this operation.\n",
      "\n",
      "  locations[i][\"lon\"] = locations[i].geometry.centroid.x\n"
     ]
    },
    {
     "name": "stdout",
     "output_type": "stream",
     "text": [
      "gallery\n",
      "museum\n"
     ]
    },
    {
     "name": "stderr",
     "output_type": "stream",
     "text": [
      "C:\\Users\\MUSIC\\AppData\\Local\\Temp\\ipykernel_11016\\3285926332.py:32: UserWarning: Geometry is in a geographic CRS. Results from 'centroid' are likely incorrect. Use 'GeoSeries.to_crs()' to re-project geometries to a projected CRS before this operation.\n",
      "\n",
      "  locations[i][\"lat\"] = locations[i].geometry.centroid.y\n",
      "C:\\Users\\MUSIC\\AppData\\Local\\Temp\\ipykernel_11016\\3285926332.py:33: UserWarning: Geometry is in a geographic CRS. Results from 'centroid' are likely incorrect. Use 'GeoSeries.to_crs()' to re-project geometries to a projected CRS before this operation.\n",
      "\n",
      "  locations[i][\"lon\"] = locations[i].geometry.centroid.x\n"
     ]
    },
    {
     "name": "stdout",
     "output_type": "stream",
     "text": [
      "viewpoint\n"
     ]
    },
    {
     "name": "stderr",
     "output_type": "stream",
     "text": [
      "C:\\Users\\MUSIC\\AppData\\Local\\Temp\\ipykernel_11016\\3285926332.py:32: UserWarning: Geometry is in a geographic CRS. Results from 'centroid' are likely incorrect. Use 'GeoSeries.to_crs()' to re-project geometries to a projected CRS before this operation.\n",
      "\n",
      "  locations[i][\"lat\"] = locations[i].geometry.centroid.y\n",
      "C:\\Users\\MUSIC\\AppData\\Local\\Temp\\ipykernel_11016\\3285926332.py:33: UserWarning: Geometry is in a geographic CRS. Results from 'centroid' are likely incorrect. Use 'GeoSeries.to_crs()' to re-project geometries to a projected CRS before this operation.\n",
      "\n",
      "  locations[i][\"lon\"] = locations[i].geometry.centroid.x\n"
     ]
    },
    {
     "name": "stdout",
     "output_type": "stream",
     "text": [
      "yes\n"
     ]
    }
   ],
   "source": [
    "colors = [\n",
    "    'red',\n",
    "    'blue',\n",
    "    'gray',\n",
    "    'darkred',\n",
    "    'lightred',\n",
    "    'orange',\n",
    "    'beige',\n",
    "    'green',\n",
    "    'darkgreen',\n",
    "    'lightgreen',\n",
    "    'darkblue',\n",
    "    'lightblue',\n",
    "    'purple',\n",
    "    'darkpurple',\n",
    "    'pink',\n",
    "    'cadetblue',\n",
    "    'lightgray',\n",
    "    'black'\n",
    "]\n",
    "\n",
    "icons = [\"magnet\", \"hammer\", \"palette\", \"building-columns\",\"eye\",\"question\"]\n",
    "# icons list\n",
    "# https://fontawesome.com/search?q=caravan&o=r\n",
    "\n",
    "ma = folium.Map(location=[47.1611615, 19.5057541], zoom_start=7, tiles='OpenStreetMap')\n",
    "marker_cluster = MarkerCluster().add_to(ma)\n",
    "c = 0\n",
    "l = list(locations.keys())\n",
    "WHERE = \"Magyarország\"\n",
    "for i in l:\n",
    "    locations[i][\"lat\"] = locations[i].geometry.centroid.y\n",
    "    locations[i][\"lon\"] = locations[i].geometry.centroid.x\n",
    "    locations[i][\"websiteBool\"] = locations[i][\"website\"].apply(lambda x: 1 if m.pd.isnull(x) == True else 0)\n",
    "    print(i)\n",
    "    #print(locations[i].columns.values.tolist())\n",
    "    for _, r in locations[i].iterrows():\n",
    "        #m.folium.Marker(location=[r['lat'], r['lon']], popup='length: {} <br> area: {}'.format(r['Shape_Leng'], r['Shape_Area'])).add_to(m)\n",
    "        #folium.Marker(location=[r['lat'], r['lon']], popup=r[\"name\"], icon=folium.Icon(color=colors[c], prefix='fa', icon=icons[c])).add_to(ma)\n",
    "        #link = str(\"<a href=https://www.google.com/search?q=\"+WHERE+\" \"+r[\"name\"]+\" target=_blank >\"+popup=r[\"name\"]+ \"</a>\")\n",
    "        linkGog = str(WHERE+\" \"+str(r[\"name\"])+\" \"+str(r[\"closestCity\"]))\n",
    "        linkGog = linkGog.replace(\" \", \"+\")\n",
    "        if r[\"name\"] == None:\n",
    "            linkName = \"Link\"\n",
    "        else:\n",
    "            linkName = r[\"name\"]\n",
    "            \n",
    "        if r[\"websiteBool\"] == 0: # if it is 0, means there is a website\n",
    "            #print(r[\"website\"])\n",
    "            link = str(\"<a href=\"+str(r[\"website\"])+\" target=_blank > \"+ str(linkName)+ \"</a>\")\n",
    "        else:\n",
    "            #print(\"wrong link\", r[\"website\"])\n",
    "            link = str(\"<a href=https://www.google.com/search?q=\"+linkGog+\" target=_blank > \"+ str(linkName)+ \"</a>\")\n",
    "        #link = str(\"<a href=https://www.google.com/search?q=\"+WHERE+\" \"+str(r[\"name\"])+\" target=_blank > \"+str(r[\"name\"])+ \"</a>\")\n",
    "        #print(link)\n",
    "        folium.Marker(location=[r['lat'], r['lon']], \n",
    "                      popup=link, \n",
    "                      icon=folium.Icon(color=colors[c], prefix='fa', icon=icons[c])).add_to(marker_cluster)\n",
    "    c += 1\n",
    "#ma\n",
    "ma.save(\"Hungary.html\")"
   ]
  },
  {
   "cell_type": "code",
   "execution_count": 8,
   "id": "f63bb4cf",
   "metadata": {
    "ExecuteTime": {
     "end_time": "2023-03-01T12:20:16.445019Z",
     "start_time": "2023-03-01T12:19:58.600323Z"
    }
   },
   "outputs": [],
   "source": [
    "ma.save(\"Hungary.html\")"
   ]
  },
  {
   "cell_type": "code",
   "execution_count": 58,
   "id": "7016d80c",
   "metadata": {
    "ExecuteTime": {
     "end_time": "2023-03-01T13:45:23.151145Z",
     "start_time": "2023-03-01T13:45:23.133192Z"
    }
   },
   "outputs": [],
   "source": [
    "import pandas as pd"
   ]
  },
  {
   "cell_type": "code",
   "execution_count": null,
   "id": "f7006847",
   "metadata": {},
   "outputs": [],
   "source": []
  }
 ],
 "metadata": {
  "kernelspec": {
   "display_name": "Python 3 (ipykernel)",
   "language": "python",
   "name": "python3"
  },
  "language_info": {
   "codemirror_mode": {
    "name": "ipython",
    "version": 3
   },
   "file_extension": ".py",
   "mimetype": "text/x-python",
   "name": "python",
   "nbconvert_exporter": "python",
   "pygments_lexer": "ipython3",
   "version": "3.10.7"
  },
  "varInspector": {
   "cols": {
    "lenName": 16,
    "lenType": 16,
    "lenVar": 40
   },
   "kernels_config": {
    "python": {
     "delete_cmd_postfix": "",
     "delete_cmd_prefix": "del ",
     "library": "var_list.py",
     "varRefreshCmd": "print(var_dic_list())"
    },
    "r": {
     "delete_cmd_postfix": ") ",
     "delete_cmd_prefix": "rm(",
     "library": "var_list.r",
     "varRefreshCmd": "cat(var_dic_list()) "
    }
   },
   "oldHeight": 492.37878,
   "position": {
    "height": "40px",
    "left": "836.247px",
    "right": "20px",
    "top": "182px",
    "width": "321.528px"
   },
   "types_to_exclude": [
    "module",
    "function",
    "builtin_function_or_method",
    "instance",
    "_Feature"
   ],
   "varInspector_section_display": "none",
   "window_display": true
  }
 },
 "nbformat": 4,
 "nbformat_minor": 5
}
